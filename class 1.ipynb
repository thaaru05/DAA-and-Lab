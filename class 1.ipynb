{
 "cells": [
  {
   "cell_type": "code",
   "execution_count": 5,
   "id": "97b8fe1b",
   "metadata": {},
   "outputs": [
    {
     "name": "stdout",
     "output_type": "stream",
     "text": [
      "Enter the array:[7,10,4,3,20,15]\n",
      "Enter the value of k:4\n",
      "[3, 4, 7, 10, 15, 20]\n",
      "The kth smallest element is: 10\n"
     ]
    }
   ],
   "source": [
    "l=eval(input(\"Enter the array:\"))\n",
    "k=int(input(\"Enter the value of k:\"))\n",
    "l.sort()\n",
    "print(l)\n",
    "print(\"The kth smallest element is:\",l[k-1])\n"
   ]
  },
  {
   "cell_type": "code",
   "execution_count": 8,
   "id": "18b741c5",
   "metadata": {},
   "outputs": [
    {
     "name": "stdout",
     "output_type": "stream",
     "text": [
      "Enter the array:[1, 30, 40, 50, 60, 70, 23, 20]\n",
      "70\n"
     ]
    }
   ],
   "source": [
    "l=eval(input(\"Enter the array:\"))\n",
    "n=len(l)\n",
    "for i in range(n):\n",
    "    if(l[i]>l[i-1] and l[i]>l[i+1]):\n",
    "        print(l[i])\n",
    "    else:\n",
    "        continue\n",
    "        "
   ]
  },
  {
   "cell_type": "code",
   "execution_count": 1,
   "id": "e6804f8e",
   "metadata": {},
   "outputs": [
    {
     "name": "stdout",
     "output_type": "stream",
     "text": [
      "Enter the arrival array:[9,9.4,9.5,11,15,18]\n",
      "Enter the departure array:[9.1,12,11.2,11.3,19,20]\n",
      "The number of platforms needed is: 3\n"
     ]
    }
   ],
   "source": [
    "arrival = eval(input(\"Enter the arrival array:\"))\n",
    "departure = eval(input(\"Enter the departure array:\"))\n",
    "arrival.sort()\n",
    "departure.sort()\n",
    "num_platforms = 1  \n",
    "max_platforms = 1   \n",
    "i = 1\n",
    "j = 0\n",
    "n = len(arrival)\n",
    "m = len(departure)\n",
    "\n",
    "while (i < n and j < m):\n",
    "    if arrival[i] <= departure[j]:\n",
    "        num_platforms += 1\n",
    "        i += 1\n",
    "        if num_platforms > max_platforms:\n",
    "            max_platforms = num_platforms\n",
    "    else:\n",
    "        num_platforms -= 1\n",
    "        j += 1\n",
    "\n",
    "print(\"The number of platforms needed is:\", max_platforms)\n"
   ]
  },
  {
   "cell_type": "code",
   "execution_count": 6,
   "id": "511d546d",
   "metadata": {},
   "outputs": [
    {
     "name": "stdout",
     "output_type": "stream",
     "text": [
      "Output: 6\n"
     ]
    }
   ],
   "source": [
    "arr = eval(input(\"Enter the array:\"))\n",
    "\n",
    "if len(arr) < 3:\n",
    "    print(len(arr))\n",
    "else:\n",
    "    count = 1\n",
    "    for i in range(1, len(arr) - 1):\n",
    "        if (arr[i] < arr[i - 1] and arr[i] < arr[i + 1]) or (arr[i] > arr[i - 1] and arr[i] > arr[i + 1]):\n",
    "            count += 1\n",
    "    print(count+1)\n",
    "\n",
    "    #"
   ]
  },
  {
   "cell_type": "code",
   "execution_count": 11,
   "id": "2eb0ef63",
   "metadata": {},
   "outputs": [
    {
     "name": "stdout",
     "output_type": "stream",
     "text": [
      "Enter the array:[10, 22, 9, 33, 49, 50, 31, 60]\n",
      "6\n"
     ]
    }
   ],
   "source": [
    "arr = eval(input(\"Enter the array:\"))\n",
    "\n",
    "if len(arr) < 3:\n",
    "    print(len(arr))\n",
    "else:\n",
    "    count = 1\n",
    "    for i in range(1, len(arr) - 1):\n",
    "        if (arr[i] < arr[i - 1] and arr[i] < arr[i + 1]) or (arr[i] > arr[i - 1] and arr[i] > arr[i + 1]):\n",
    "            count += 1\n",
    "    print(count+1)\n",
    "\n"
   ]
  },
  {
   "cell_type": "code",
   "execution_count": null,
   "id": "692b663a",
   "metadata": {},
   "outputs": [],
   "source": []
  }
 ],
 "metadata": {
  "kernelspec": {
   "display_name": "Python 3 (ipykernel)",
   "language": "python",
   "name": "python3"
  },
  "language_info": {
   "codemirror_mode": {
    "name": "ipython",
    "version": 3
   },
   "file_extension": ".py",
   "mimetype": "text/x-python",
   "name": "python",
   "nbconvert_exporter": "python",
   "pygments_lexer": "ipython3",
   "version": "3.10.9"
  }
 },
 "nbformat": 4,
 "nbformat_minor": 5
}
